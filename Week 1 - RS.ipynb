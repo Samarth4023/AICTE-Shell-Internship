{
 "cells": [
  {
   "cell_type": "markdown",
   "id": "13d58d19-1804-4471-baf3-30035b61ceff",
   "metadata": {},
   "source": [
    "# AICTE Shell Internship\n",
    "## Week 1"
   ]
  },
  {
   "cell_type": "code",
   "execution_count": null,
   "id": "8a89198f-eac4-486b-b916-ed40035a1efb",
   "metadata": {},
   "outputs": [],
   "source": [
    "# Importing necessary libraries\n",
    "\n"
   ]
  }
 ],
 "metadata": {
  "kernelspec": {
   "display_name": "GPU(sam)",
   "language": "python",
   "name": "sam"
  },
  "language_info": {
   "codemirror_mode": {
    "name": "ipython",
    "version": 3
   },
   "file_extension": ".py",
   "mimetype": "text/x-python",
   "name": "python",
   "nbconvert_exporter": "python",
   "pygments_lexer": "ipython3",
   "version": "3.8.20"
  }
 },
 "nbformat": 4,
 "nbformat_minor": 5
}
